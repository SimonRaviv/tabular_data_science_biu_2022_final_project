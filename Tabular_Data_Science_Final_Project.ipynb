{
  "cells": [
    {
      "cell_type": "markdown",
      "metadata": {
        "id": "IreYGBzi-jOz"
      },
      "source": [
        "# Imports"
      ]
    },
    {
      "cell_type": "code",
      "execution_count": null,
      "metadata": {},
      "outputs": [],
      "source": [
        "PROJECT_PATH = '.'"
      ]
    },
    {
      "cell_type": "code",
      "execution_count": null,
      "metadata": {
        "id": "NTeh85cM-i3W"
      },
      "outputs": [],
      "source": [
        "import numpy as np\n",
        "import matplotlib as mpl\n",
        "import matplotlib.pyplot as plt\n",
        "import seaborn as sns\n",
        "import warnings\n",
        "\n",
        "from lib_tds_rg.tds_rg_module import StatisticalTests as stest\n",
        "from lib_tds_rg.tds_rg_module import TheoreticalDistributionFitter as dist_fitter\n",
        "from lib_tds_rg.tds_rg_module import DistributionPlotter as plotter\n",
        "from lib_tds_rg.tds_rg_module import RGSimilarity as rg_sim\n",
        "from lib_tds_rg.dataset_handling_utils import *\n",
        "from lib_tds_rg.empirical_experiments_utils import *\n",
        "\n",
        "mpl.style.use(\"ggplot\")\n",
        "warnings.filterwarnings(\"ignore\")"
      ]
    },
    {
      "cell_type": "markdown",
      "metadata": {
        "id": "lF5BAcAoP6bi"
      },
      "source": [
        "# Constants"
      ]
    },
    {
      "cell_type": "code",
      "execution_count": null,
      "metadata": {
        "id": "YhrqV9BCq3UK"
      },
      "outputs": [],
      "source": [
        "SEED = 2022"
      ]
    },
    {
      "cell_type": "markdown",
      "metadata": {
        "id": "QAIaU2gupFIs"
      },
      "source": [
        "# Handle datasets\n",
        "\n",
        "<u>Source:</u>\n",
        "\n",
        "*   Dataset 1 - [Houses price prediction](https://www.kaggle.com/c/house-prices-advanced-regression-techniques/data)\n",
        "*   Dataset 2 - [Cancer detection](https://www.kaggle.com/uciml/breast-cancer-wisconsin-data)\n",
        "*   Dataset 3 - [Stress detection in sleep](https://www.kaggle.com/laavanya/human-stress-detection-in-and-through-sleep)\n",
        "*   Dataset 4 - [Salaries in san fransisco ](https://www.kaggle.com/kaggle/sf-salaries)"
      ]
    },
    {
      "cell_type": "markdown",
      "metadata": {
        "id": "B0l50f9Cuh3-"
      },
      "source": [
        "## Load the datasets"
      ]
    },
    {
      "cell_type": "code",
      "execution_count": null,
      "metadata": {
        "id": "uK5ffet9q-tF"
      },
      "outputs": [],
      "source": [
        "datasets_info = [\n",
        "    (f\"{DS.HOUSES}.csv\", preprocess_houses),\n",
        "    (f\"{DS.CANCER}.csv\", preprocess_cancer),\n",
        "    (f\"{DS.SLEEPING}.csv\", preprocess_sleeping),\n",
        "    (f\"{DS.SALARIES}.csv\", preprocess_salaries)\n",
        "]\n",
        "\n",
        "dtfs = {}\n",
        "for dataset in datasets_info:\n",
        "    full_file_name = dataset[0]\n",
        "    file_name = full_file_name.split('.')[0]\n",
        "    file_path = f\"{PROJECT_PATH}/datasets/{full_file_name}\"\n",
        "    preprocess_func = dataset[1]\n",
        "    dtfs[file_name] = read_dataset(file_path, preprocess_func)"
      ]
    },
    {
      "cell_type": "markdown",
      "metadata": {
        "id": "pxxL8UqdA5SE"
      },
      "source": [
        "# The problem\n",
        "\n",
        "One of the usages of statistical tests is to help the scientists conclude whether a data is drawn from a specific population or not, and which distributions are identical.<p>\n",
        "Even though they are widely used, those statistical tests perform badly on several use cases, and it can be seen in the following examples.<p>\n"
      ]
    },
    {
      "cell_type": "markdown",
      "metadata": {
        "id": "85ypTl0KA9EO"
      },
      "source": [
        "- When the samples generated from the same distribution but with **slightly** different parameters, the p-values are basically zero."
      ]
    },
    {
      "cell_type": "code",
      "execution_count": null,
      "metadata": {
        "colab": {
          "base_uri": "https://localhost:8080/",
          "height": 0
        },
        "id": "Sfb63Ox7A8-k",
        "outputId": "cf50158e-041a-4bf1-92d1-329e96ed99cd"
      },
      "outputs": [],
      "source": [
        "sample_size = 50_000\n",
        "np.random.seed(SEED)\n",
        "sample1 = np.random.normal(0, 1, sample_size)\n",
        "np.random.seed(SEED)\n",
        "sample2 = np.random.normal(0, 1.05, sample_size)\n",
        "\n",
        "# Perform statistical test\n",
        "tests = ['KS test', 'CVM test']\n",
        "pvals = [stest.ks_2_sample_test(sample1, sample2), \n",
        "        stest.cvm_2_sample_test(sample1, sample2)]\n",
        "tabulate_data(cols=[tests, pvals],\n",
        "              headers=['Statistical Test', 'Value'],\n",
        "              title='Results')\n",
        "# Plot samples\n",
        "plt.figure(figsize=(15, 5))\n",
        "plt.subplot(1, 2, 1)\n",
        "plotter.plot_ecdfs([sample1, sample2], ['sample1', 'sample2'])\n",
        "plt.subplot(1, 2, 2)\n",
        "plotter.plot_histograms_kdes([sample1, sample2], ['sample1', 'sample2'])"
      ]
    },
    {
      "cell_type": "markdown",
      "metadata": {
        "id": "Qjbzh8ASA8zt"
      },
      "source": [
        "- When the data generated relatively similar distributions but not the same generator, p-values also small enough to be considered 0."
      ]
    },
    {
      "cell_type": "code",
      "execution_count": null,
      "metadata": {
        "colab": {
          "base_uri": "https://localhost:8080/",
          "height": 0
        },
        "id": "f3l66op9A8sD",
        "outputId": "9ddb3715-1b45-4ec5-d26e-44ce390936d2"
      },
      "outputs": [],
      "source": [
        "np.random.seed(SEED)\n",
        "sample_size = 50_000\n",
        "sample1 = np.random.normal(1, 0.45, sample_size)\n",
        "np.random.seed(SEED)\n",
        "sample2 = np.random.lognormal(0, 0.5, sample_size)\n",
        "\n",
        "# Perform statistical test\n",
        "tests = ['KS test', 'CVM test']\n",
        "pvals = [stest.ks_2_sample_test(sample1, sample2), \n",
        "        stest.cvm_2_sample_test(sample1, sample2)]\n",
        "tabulate_data(cols=[tests, pvals],\n",
        "              headers=['Statistical Test', 'Value'],\n",
        "              title='Results')\n",
        "# Plot samples\n",
        "plt.figure(figsize=(15, 5))\n",
        "plt.subplot(1, 2, 1)\n",
        "plotter.plot_ecdfs([sample1, sample2], ['sample1', 'sample2'])\n",
        "plt.subplot(1, 2, 2)\n",
        "plotter.plot_histograms_kdes([sample1, sample2], ['sample1', 'sample2'])"
      ]
    },
    {
      "cell_type": "markdown",
      "metadata": {
        "id": "-Dc2kjd1A8ju"
      },
      "source": [
        "- There are stability issues depending on the different statistical test, sample size, random seed, etc. <p>\n",
        "Several runs with the same generator can **yield** very different p-values,<p> sometimes even lower than the minimum level needed to accept the null hypothesis."
      ]
    },
    {
      "cell_type": "code",
      "execution_count": null,
      "metadata": {
        "colab": {
          "base_uri": "https://localhost:8080/",
          "height": 0
        },
        "id": "3n_k6tPZA8OI",
        "outputId": "333de1dd-c680-44b4-911e-0f3737b881eb"
      },
      "outputs": [],
      "source": [
        "num_of_samples = 15\n",
        "sample_size = 40_000\n",
        "np.random.seed(SEED)\n",
        "ks_pvalues = list()\n",
        "cvm_pvalues = list()\n",
        "for _ in range(num_of_samples):\n",
        "    sample1 = np.random.normal(0, 1, sample_size)\n",
        "    sample2 = np.random.normal(0, 1, sample_size)\n",
        "    ks_pvalue = stest.ks_2_sample_test(sample1, sample2) \n",
        "    cvm_pvalue = stest.cvm_2_sample_test(sample1, sample2)\n",
        "    ks_pvalues.append(ks_pvalue)\n",
        "    cvm_pvalues.append(cvm_pvalue)\n",
        "\n",
        "titles = ['KS - Result Statistics', 'CVM - Result Statistics']\n",
        "values = [[np.mean(ks_pvalues), np.std(ks_pvalues), np.min(ks_pvalues), np.max(ks_pvalues)],\n",
        "          [np.mean(cvm_pvalues), np.std(cvm_pvalues), np.min(cvm_pvalues), np.max(cvm_pvalues)]]\n",
        "stats = [[\"ks_pvalues_mean\", \"ks_pvalues_std\", \"ks_pvalues_min\", \"ks_pvalues_max\"], \n",
        "         [\"cvm_pvalues_mean\", \"cvm_pvalues_std\", \"cvm_pvalues_min\", \"cvm_pvalues_max\"]]\n",
        "\n",
        "for i,v in enumerate(values):\n",
        "    tabulate_data(cols=[stats[i], v], headers=['Statistics Metric', 'Value'], title=titles[i])\n",
        "\n",
        "xs = list(range(1, num_of_samples + 1))\n",
        "plt.figure(figsize=(15, 5))\n",
        "plt.subplot(1, 2, 1)\n",
        "sns.barplot(xs, ks_pvalues)\n",
        "plt.title('KS P-values')\n",
        "plt.subplot(1, 2, 2)\n",
        "sns.barplot(xs, cvm_pvalues)\n",
        "plt.title('CVM P-values')"
      ]
    },
    {
      "cell_type": "markdown",
      "metadata": {
        "id": "u5IxIcyUB-Oc"
      },
      "source": [
        "# Our solution\n",
        "\n",
        "\n",
        "The basic idea of the method is to use KDEs of both distributions, to compute the normalized Root Mean Squared Error (RMSE) between the KDEs.\n",
        "<br>\n",
        "Our method supports scaling the data to [0,1], when the similarity needed between 2 distributions with different value ranges, e.g. height vs weight.\n",
        "\n",
        "<u>Algorithm steps:</u>\n",
        "```\n",
        "    1. Scale the samples so they are on the same domain (optional)\n",
        "    2. Calculate the KDE for each sample\n",
        "    3. Evaluate the values of the KDEs on each of the data sample points\n",
        "    4. Compute a root mean squared error between the KDEs values\n",
        "    5. Normalize the result to range [0,1]\n",
        "```"
      ]
    },
    {
      "cell_type": "markdown",
      "metadata": {
        "id": "A6UYkZ_VV-Au"
      },
      "source": [
        "# Experiments"
      ]
    },
    {
      "cell_type": "markdown",
      "metadata": {
        "id": "3aAbV3fQGazf"
      },
      "source": [
        " ## Top K theoretical distributions view\n",
        "\n",
        " This comes to serve as a view of what are the top K theoretical\n",
        " distribution the data could be sampled from.<br>\n",
        " The theoretical CDF built by fitting the parameters using maximum likelihood estimation (MLE).<br>\n",
        " The scoring metric based on combined P-Values of Kolmogorov-Smirnov and Cramér-von Mises statistical tests using the Fisher method.\n",
        "\n",
        " <br>\n",
        " <u>Note:</u> This is not the main part of the project, but comes as a complementary view.\n",
        "\n",
        " <br>\n",
        " TODO: Think if we need to explain about CVM and Fisher method here."
      ]
    },
    {
      "cell_type": "code",
      "execution_count": null,
      "metadata": {
        "id": "Re95OCUVkqg5"
      },
      "outputs": [],
      "source": [
        "k = 3"
      ]
    },
    {
      "cell_type": "markdown",
      "metadata": {
        "id": "3--ew0hQK-6V"
      },
      "source": [
        "### Dataset 1 - [Houses price prediction](https://www.kaggle.com/c/house-prices-advanced-regression-techniques/data)"
      ]
    },
    {
      "cell_type": "code",
      "execution_count": null,
      "metadata": {
        "colab": {
          "base_uri": "https://localhost:8080/",
          "height": 0
        },
        "id": "1Xg1VdKH6h3e",
        "outputId": "799d9128-aca9-444a-d204-2b3a090cf530"
      },
      "outputs": [],
      "source": [
        "dtfs[DS.HOUSES].describe()"
      ]
    },
    {
      "cell_type": "markdown",
      "metadata": {
        "id": "CFzu-G62jwvi"
      },
      "source": [
        "#### SalePrice - The property's sale price in dollars"
      ]
    },
    {
      "cell_type": "code",
      "execution_count": null,
      "metadata": {
        "colab": {
          "base_uri": "https://localhost:8080/",
          "height": 0
        },
        "id": "qzTx9jU_HntX",
        "outputId": "8245cb22-76ca-43bf-d60d-8247ce579905"
      },
      "outputs": [],
      "source": [
        "data = dtfs[DS.HOUSES].SalePrice\n",
        "top_k_theoretical_dists = dist_fitter.top_k_theoretical_distributions(data, k, show_results=True)\n",
        "plotter.plot_top_k(data, top_k_theoretical_dists)"
      ]
    },
    {
      "cell_type": "markdown",
      "metadata": {
        "id": "u2Qmo6wYuFs8"
      },
      "source": [
        "### Dataset 2 - [Cancer detection](https://www.kaggle.com/uciml/breast-cancer-wisconsin-data)"
      ]
    },
    {
      "cell_type": "code",
      "execution_count": null,
      "metadata": {
        "colab": {
          "base_uri": "https://localhost:8080/",
          "height": 0
        },
        "id": "T6TInOgJupvN",
        "outputId": "bd67a053-94ee-4b4b-fedb-91bd9896faf3"
      },
      "outputs": [],
      "source": [
        "dtfs[DS.CANCER].describe()"
      ]
    },
    {
      "cell_type": "markdown",
      "metadata": {
        "id": "qNE2VK7IuTRc"
      },
      "source": [
        "#### Radius - Mean of distances from center to points on the perimeter"
      ]
    },
    {
      "cell_type": "code",
      "execution_count": null,
      "metadata": {
        "colab": {
          "base_uri": "https://localhost:8080/",
          "height": 0
        },
        "id": "9GDAI5i5uf2y",
        "outputId": "4c96067a-f169-41cd-a7b6-a9139198ee0d"
      },
      "outputs": [],
      "source": [
        "data = dtfs[DS.CANCER].radius_mean\n",
        "top_k_theoretical_dists = dist_fitter.top_k_theoretical_distributions(data, k, show_results=True)\n",
        "plotter.plot_top_k(data, top_k_theoretical_dists)"
      ]
    },
    {
      "cell_type": "markdown",
      "metadata": {
        "id": "DRc1agKzwFOh"
      },
      "source": [
        "### Dataset 3 - [Stress detection in sleep](https://www.kaggle.com/laavanya/human-stress-detection-in-and-through-sleep)"
      ]
    },
    {
      "cell_type": "code",
      "execution_count": null,
      "metadata": {
        "colab": {
          "base_uri": "https://localhost:8080/",
          "height": 0
        },
        "id": "Kv09IkqGwJYy",
        "outputId": "f36557e0-184f-48b5-8df0-3966015ea758"
      },
      "outputs": [],
      "source": [
        "dtfs[DS.SLEEPING].describe()"
      ]
    },
    {
      "cell_type": "markdown",
      "metadata": {
        "id": "WLopz26nwIv1"
      },
      "source": [
        "#### t - Body temperature"
      ]
    },
    {
      "cell_type": "code",
      "execution_count": null,
      "metadata": {
        "colab": {
          "base_uri": "https://localhost:8080/",
          "height": 0
        },
        "id": "PXAgHtJmwOzq",
        "outputId": "565c4951-e625-4d39-b952-a1db040ea6c3"
      },
      "outputs": [],
      "source": [
        "data = dtfs[DS.SLEEPING].t\n",
        "top_k_theoretical_dists = dist_fitter.top_k_theoretical_distributions(data, k, show_results=True)\n",
        "plotter.plot_top_k(data, top_k_theoretical_dists)"
      ]
    },
    {
      "cell_type": "markdown",
      "metadata": {
        "id": "KGrCEi-yxTk1"
      },
      "source": [
        "### Dataset 4 - [Salaries in san fransisco ](https://www.kaggle.com/kaggle/sf-salaries)"
      ]
    },
    {
      "cell_type": "code",
      "execution_count": null,
      "metadata": {
        "colab": {
          "base_uri": "https://localhost:8080/",
          "height": 0
        },
        "id": "B442O8YWyVIj",
        "outputId": "cf64e3bf-d9d6-401a-a76c-a2de5bf0b0e1"
      },
      "outputs": [],
      "source": [
        "dtfs[DS.SALARIES].describe()"
      ]
    },
    {
      "cell_type": "markdown",
      "metadata": {
        "id": "bb9rfc6qyTcu"
      },
      "source": [
        "#### BasePay - The base pay of the salary"
      ]
    },
    {
      "cell_type": "code",
      "execution_count": null,
      "metadata": {
        "colab": {
          "base_uri": "https://localhost:8080/",
          "height": 0
        },
        "id": "XnQmNx9GyTkT",
        "outputId": "be3ea6f7-8329-4717-ae30-dbb71b26744a"
      },
      "outputs": [],
      "source": [
        "data = dtfs[DS.SALARIES].BasePay.sample(2000)\n",
        "top_k_theoretical_dists = dist_fitter.top_k_theoretical_distributions(data, k, show_results=True)\n",
        "plotter.plot_top_k(data, top_k_theoretical_dists)"
      ]
    },
    {
      "cell_type": "markdown",
      "metadata": {
        "id": "fx4mS1t677hm"
      },
      "source": [
        "## Empirical distributions similarity\n",
        "\n",
        "This part demonstrates our method to compute the similarity between 2 empirical distributions, as described in *'Our solution'* section above."
      ]
    },
    {
      "cell_type": "markdown",
      "metadata": {
        "id": "UsdFH722xA84"
      },
      "source": [
        "### Set experiments random seed\n",
        "Note that there are additional seeds done some of the experiments.<br>\n",
        "This is done in order to isolate the change of the experiment, so the test results won't be affected by the random state."
      ]
    },
    {
      "cell_type": "code",
      "execution_count": null,
      "metadata": {
        "id": "eszwJhKexBrd"
      },
      "outputs": [],
      "source": [
        "np.random.seed(SEED)"
      ]
    },
    {
      "cell_type": "markdown",
      "metadata": {
        "id": "hcETEqLaFsZM"
      },
      "source": [
        "### Synthetic data experiments\n",
        "\n",
        "This section of the experiments shows how synthetic data samples compared with our method vs Kolmogorov-Smirnov and Cramér-von Mises statistical tests."
      ]
    },
    {
      "cell_type": "code",
      "execution_count": null,
      "metadata": {
        "id": "ooPPw5iUI8gD"
      },
      "outputs": [],
      "source": [
        "sample_size = 1000"
      ]
    },
    {
      "cell_type": "markdown",
      "metadata": {
        "id": "x0DsN3XvKC84"
      },
      "source": [
        "#### Experiment 1 - Normal distribution similarity\n",
        "\n",
        "This experiment shows the comparison of 2 samples from the exact same generator(Normal distribution) with the same parameters. "
      ]
    },
    {
      "cell_type": "code",
      "execution_count": null,
      "metadata": {
        "colab": {
          "base_uri": "https://localhost:8080/",
          "height": 0
        },
        "id": "1B1WXZEqKC9B",
        "outputId": "171547fb-1ee6-480c-9e32-1954f900daf2"
      },
      "outputs": [],
      "source": [
        "dist_sample1 = np.random.normal(0, 1, sample_size)\n",
        "dist_sample2 = np.random.normal(0, 1, sample_size)\n",
        "show_2_sample_comparisons(dist_sample1, dist_sample2, samples_labels=['norm_s1','norm_s2'], show_ecdfs=True)"
      ]
    },
    {
      "cell_type": "markdown",
      "metadata": {
        "id": "jl16AfhlFcAt"
      },
      "source": [
        "#### Experiment 2 - Normal distribution similarity with data scaling\n",
        "\n",
        "This experiment shows the comparison of 2 samples from the same distribution function, but different parameters, i.e. different values domain."
      ]
    },
    {
      "cell_type": "code",
      "execution_count": null,
      "metadata": {
        "colab": {
          "base_uri": "https://localhost:8080/",
          "height": 0
        },
        "id": "DNES6oMsFeWN",
        "outputId": "9a52172a-2f8d-4628-b76d-c49ae01ddebc"
      },
      "outputs": [],
      "source": [
        "dist_sample1 = np.random.normal(170, 10, sample_size)  # e.g. heights in CM\n",
        "dist_sample2 = np.random.normal(80, 5, sample_size)  # e.g. weights in KG\n",
        "show_2_sample_comparisons(dist_sample1, dist_sample2, samples_labels=['norm_s1','norm_s2'], scale_data=True, show_ecdfs=True)"
      ]
    },
    {
      "cell_type": "markdown",
      "metadata": {
        "id": "MJkE7IW0KC9B"
      },
      "source": [
        "#### Experiment 3 - Chisquare distribution similarity\n",
        "\n",
        "This experiment shows the comparison of 2 samples from the same distribution function(chisquare distribution), but different parameters with a small change."
      ]
    },
    {
      "cell_type": "code",
      "execution_count": null,
      "metadata": {
        "colab": {
          "base_uri": "https://localhost:8080/",
          "height": 0
        },
        "id": "h60rYo7QKC9B",
        "outputId": "38e047f0-4432-407d-dc2b-4b017a6a933b"
      },
      "outputs": [],
      "source": [
        "np.random.seed(SEED)\n",
        "dist_sample1 = np.random.chisquare(3.7, sample_size)\n",
        "np.random.seed(SEED)\n",
        "dist_sample2 = np.random.chisquare(1, sample_size)\n",
        "show_2_sample_comparisons(dist_sample1, dist_sample2, samples_labels=['chisquare_s1','chisquare_s2'], show_ecdfs=True)"
      ]
    },
    {
      "cell_type": "markdown",
      "metadata": {
        "id": "nRwqoyWnKC9C"
      },
      "source": [
        "#### Experiment 4 - Gamma distribution similarity\n",
        "\n",
        "This experiment shows the comparison of 2 samples from the exact same generator(Gamma distribution) from right skewed distribution with the same parameters."
      ]
    },
    {
      "cell_type": "code",
      "execution_count": null,
      "metadata": {
        "colab": {
          "base_uri": "https://localhost:8080/",
          "height": 0
        },
        "id": "WDw7qYjsKC9C",
        "outputId": "a6401a46-dd3e-43c4-cadb-806ec924cb10"
      },
      "outputs": [],
      "source": [
        "dist_sample1 = np.random.gamma(2, 1, sample_size)\n",
        "dist_sample2 = np.random.gamma(2, 1, sample_size)\n",
        "show_2_sample_comparisons(dist_sample1, dist_sample2, samples_labels=['gamma_s1','gamma_s2'], show_ecdfs=True)"
      ]
    },
    {
      "cell_type": "markdown",
      "metadata": {
        "id": "zL53mUtBW6b6"
      },
      "source": [
        "#### Experiment 5 - Geometric vs Beta distributions similarity\n",
        "\n",
        "This experiment shows the comparison of 2 samples from different generators(Geometric and Beta distribution)."
      ]
    },
    {
      "cell_type": "code",
      "execution_count": null,
      "metadata": {
        "colab": {
          "base_uri": "https://localhost:8080/",
          "height": 0
        },
        "id": "HOzKg6w1W6Hn",
        "outputId": "a2658530-38d0-4e52-a86a-bcf510a47cb3"
      },
      "outputs": [],
      "source": [
        "np.random.seed(SEED)\n",
        "dist_sample1 = np.random.geometric(0.5, sample_size)\n",
        "np.random.seed(SEED)\n",
        "dist_sample2 = np.random.beta(3, 20, sample_size)\n",
        "show_2_sample_comparisons(dist_sample1, dist_sample2, samples_labels=['geometric','beta'], show_ecdfs=True)"
      ]
    },
    {
      "cell_type": "markdown",
      "metadata": {
        "id": "lqHh1SSDsV1_"
      },
      "source": [
        "#### Experiment 6 - Multiple samples from same generator\n",
        "\n",
        "This experiment shows the comparison of 2 samples from the exact same generator(Normal distribution) sampled multiple times."
      ]
    },
    {
      "cell_type": "code",
      "execution_count": null,
      "metadata": {
        "id": "eeb-A3sV0dyG"
      },
      "outputs": [],
      "source": [
        "def run_multiple_samples_experiment(sample_size, num_of_samples):\n",
        "    np.random.seed(SEED)\n",
        "    rg_scores = list()\n",
        "    ks_pvalues = list()\n",
        "    cvm_pvalues = list()\n",
        "    for _ in range(num_of_samples):\n",
        "        dist_sample1 = np.random.normal(0, 1, sample_size)\n",
        "        dist_sample2 = np.random.normal(0, 1, sample_size)\n",
        "        rg_score, ks_pvalue, cvm_pvalue = get_empirical_comparison(dist_sample1, dist_sample2)\n",
        "        rg_percent_similarity = (1 - rg_score) * 100\n",
        "        rg_scores.append(rg_percent_similarity)\n",
        "        ks_pvalues.append(ks_pvalue)\n",
        "        cvm_pvalues.append(cvm_pvalue)\n",
        "\n",
        "    log_multi_test_statistics(rg_scores, ks_pvalues, cvm_pvalues, scores_units=['[%]']*4)"
      ]
    },
    {
      "cell_type": "markdown",
      "metadata": {
        "id": "n1Cg8vh_A6Cu"
      },
      "source": [
        "##### Small sample size"
      ]
    },
    {
      "cell_type": "code",
      "execution_count": null,
      "metadata": {
        "colab": {
          "base_uri": "https://localhost:8080/",
          "height": 0
        },
        "id": "vw9XtE3isdKK",
        "outputId": "8e31c881-595e-4440-9a32-a29875c1cdaf"
      },
      "outputs": [],
      "source": [
        "sample_size = 50\n",
        "num_of_samples = 10\n",
        "run_multiple_samples_experiment(sample_size, num_of_samples)"
      ]
    },
    {
      "cell_type": "markdown",
      "metadata": {
        "id": "m_XKEVYQBEHD"
      },
      "source": [
        "##### Large sample size"
      ]
    },
    {
      "cell_type": "code",
      "execution_count": null,
      "metadata": {
        "colab": {
          "base_uri": "https://localhost:8080/",
          "height": 0
        },
        "id": "tc5XyLXnyJEd",
        "outputId": "340411b1-31cd-4d6e-a373-dc3f8f047373"
      },
      "outputs": [],
      "source": [
        "sample_size = 1000\n",
        "num_of_samples = 10\n",
        "run_multiple_samples_experiment(sample_size, num_of_samples)"
      ]
    },
    {
      "cell_type": "markdown",
      "metadata": {
        "id": "7z5NWTTiBxoU"
      },
      "source": [
        "#### Experiment 7 - Same generator, gradual change\n",
        "\n",
        "This experiment shows the comparison of 2 samples from the same distribution generator(Normal distribution) function with the parameters gradually changing."
      ]
    },
    {
      "cell_type": "code",
      "execution_count": null,
      "metadata": {
        "colab": {
          "base_uri": "https://localhost:8080/",
          "height": 0
        },
        "id": "rz5UaOh3CMcS",
        "outputId": "b0a21898-c20a-4d49-9718-a5ca8f6818e9"
      },
      "outputs": [],
      "source": [
        "sample_size = 500\n",
        "num_of_samples = 10\n",
        "rg_scores = list()\n",
        "ks_pvalues = list()\n",
        "cvm_pvalues = list()\n",
        "mean = 0\n",
        "std = 1\n",
        "mean_step = 1\n",
        "std_step = 1\n",
        "np.random.seed(SEED)\n",
        "dist_sample1 = np.random.normal(mean, std, sample_size)\n",
        "for _ in range(num_of_samples):\n",
        "    np.random.seed(SEED)\n",
        "    mean += mean_step\n",
        "    std += std_step\n",
        "    dist_sample2 = np.random.normal(mean, std, sample_size)\n",
        "    rg_score, ks_pvalue, cvm_pvalue = get_empirical_comparison(dist_sample1, dist_sample2)\n",
        "    rg_scores.append(-1/np.log(1-rg_score))\n",
        "    ks_pvalues.append(-1/np.log(ks_pvalue))\n",
        "    cvm_pvalues.append(-1/np.log(cvm_pvalue))\n",
        "\n",
        "plot_titles = [\"-1/log(KS-Pvalues)\", \"-1/log(CVM-Pvalues)\", \"-1/log(1 - RG-Similarity Scores)\"]\n",
        "log_multi_test_statistics(rg_scores, ks_pvalues, cvm_pvalues, plot_titles=plot_titles)"
      ]
    },
    {
      "cell_type": "markdown",
      "metadata": {
        "id": "mp1luv7twUCM"
      },
      "source": [
        "## Real world data experiments\n",
        "This section of the experiments shows how real world datasets compared with our method vs Kolmogorov-Smirnov and Cramér-von Mises statistical tests.\n",
        "<br>\n",
        "See explanation about the experiments in the experiments functions below."
      ]
    },
    {
      "cell_type": "markdown",
      "metadata": {
        "id": "wO6Ck8YZBbeW"
      },
      "source": [
        "### Experiments functions"
      ]
    },
    {
      "cell_type": "markdown",
      "metadata": {
        "id": "C4oOtHGhE6RR"
      },
      "source": [
        "#### Single sample experiment\n",
        "\n",
        "This function demonstrates an experiment of splitting a datasett to two groups, e.g. (train 80[%], test 20[%]), as an example of usage."
      ]
    },
    {
      "cell_type": "code",
      "execution_count": null,
      "metadata": {
        "id": "LINFazJgE55G"
      },
      "outputs": [],
      "source": [
        "def run_single_sample_real_dataset_experiment(data, sample_size, scale_data=False, show_ecdfs=False):\n",
        "    dist_sample = data.sample(sample_size).values\n",
        "    dist_sample1 = dist_sample[0:int(0.2*sample_size)]\n",
        "    dist_sample2 = dist_sample[int(0.2*sample_size):]\n",
        "    show_2_sample_comparisons(dist_sample1, dist_sample2, scale_data=scale_data, show_ecdfs=show_ecdfs)"
      ]
    },
    {
      "cell_type": "markdown",
      "metadata": {
        "id": "DLChzzhSIuA1"
      },
      "source": [
        "#### Two sample experiment\n",
        "\n",
        "This function demonstrates an experiment of comparing 2 different features distributions as an example of usage."
      ]
    },
    {
      "cell_type": "code",
      "execution_count": null,
      "metadata": {
        "id": "oHj3ctwIIfov"
      },
      "outputs": [],
      "source": [
        "def run_two_sample_real_dataset_experiment(data_1, data_2, scale_data=False, show_ecdfs=False):\n",
        "    show_2_sample_comparisons(data_1.to_numpy(), data_2.to_numpy(), scale_data=scale_data, show_ecdfs=show_ecdfs)"
      ]
    },
    {
      "cell_type": "markdown",
      "metadata": {
        "id": "HaA4gmBYEqh-"
      },
      "source": [
        "#### Multiple samples experiment\n",
        "\n",
        "This function demonstrates an experiment of splitting a dataset to two groups, e.g. (train80[%], test 20[%]), as an example of usage.\n",
        "<br>\n",
        "It runs the experiment multiple times, in order to see the results stability between different samples. As an example of usage, could be used for k-Fold Cross Validation."
      ]
    },
    {
      "cell_type": "code",
      "execution_count": null,
      "metadata": {
        "id": "5nmiVbMKAA_o"
      },
      "outputs": [],
      "source": [
        "def run_multiple_samples_real_dataset_experiment(data, sample_size, num_of_samples, scale_data=False):\n",
        "    np.random.seed(SEED)\n",
        "    rg_scores = list()\n",
        "    ks_pvalues = list()\n",
        "    cvm_pvalues = list()\n",
        "    for _ in range(num_of_samples):\n",
        "        dist_sample = data.sample(sample_size).values\n",
        "        dist_sample1 = dist_sample[0:int(0.2*sample_size)]\n",
        "        dist_sample2 = dist_sample[int(0.2*sample_size):]\n",
        "        rg_score, ks_pvalue, cvm_pvalue = get_empirical_comparison(dist_sample1, dist_sample2, scale_data=scale_data)\n",
        "        rg_percent_similarity = (1 - rg_score) * 100\n",
        "        rg_scores.append(rg_percent_similarity)\n",
        "        ks_pvalues.append(ks_pvalue)\n",
        "        cvm_pvalues.append(cvm_pvalue)\n",
        "\n",
        "    log_multi_test_statistics(rg_scores, ks_pvalues, cvm_pvalues, scores_units=['[%]']*4)"
      ]
    },
    {
      "cell_type": "markdown",
      "metadata": {
        "id": "9mbCrbCf6aQo"
      },
      "source": [
        "### Dataset 1 - [Houses price prediction](https://www.kaggle.com/c/house-prices-advanced-regression-techniques/data)"
      ]
    },
    {
      "cell_type": "code",
      "execution_count": null,
      "metadata": {
        "colab": {
          "base_uri": "https://localhost:8080/",
          "height": 0
        },
        "id": "4JsK4HJ-6qbB",
        "outputId": "526d8089-f13c-4bc0-8b43-7f1313e7157f"
      },
      "outputs": [],
      "source": [
        "dtfs[DS.HOUSES].describe()"
      ]
    },
    {
      "cell_type": "code",
      "execution_count": null,
      "metadata": {
        "id": "Nxkcu-TfCti9"
      },
      "outputs": [],
      "source": [
        "sample_size = 1400\n",
        "num_of_samples = 10"
      ]
    },
    {
      "cell_type": "markdown",
      "metadata": {
        "id": "RFjuTB0BD5gD"
      },
      "source": [
        "#### Experiment 1: Single sample - SalePrice - The property's sale price in dollars\n"
      ]
    },
    {
      "cell_type": "code",
      "execution_count": null,
      "metadata": {
        "colab": {
          "base_uri": "https://localhost:8080/",
          "height": 0
        },
        "id": "6cloodbdD4pF",
        "outputId": "82afdf89-3e53-4511-f7c4-a571b79ecbf8"
      },
      "outputs": [],
      "source": [
        "data = dtfs[DS.HOUSES].SalePrice\n",
        "run_single_sample_real_dataset_experiment(data, sample_size, show_ecdfs=True)"
      ]
    },
    {
      "cell_type": "markdown",
      "metadata": {
        "id": "yVNig9Fc6aQo"
      },
      "source": [
        "#### Experiment 2: Multiple samples - SalePrice - The property's sale price in dollars\n"
      ]
    },
    {
      "cell_type": "code",
      "execution_count": null,
      "metadata": {
        "colab": {
          "base_uri": "https://localhost:8080/",
          "height": 0
        },
        "id": "QCN4VBu28Oq2",
        "outputId": "27e5e3d3-e2c5-4949-9cac-35c1517d7f1c"
      },
      "outputs": [],
      "source": [
        "data = dtfs[DS.HOUSES].SalePrice\n",
        "run_multiple_samples_real_dataset_experiment(data, sample_size, num_of_samples)"
      ]
    },
    {
      "cell_type": "markdown",
      "metadata": {
        "id": "nMw8uyAt6aQp"
      },
      "source": [
        "#### Experiment 3: Single sample - LotArea - Lot size in square feet"
      ]
    },
    {
      "cell_type": "code",
      "execution_count": null,
      "metadata": {
        "colab": {
          "base_uri": "https://localhost:8080/",
          "height": 0
        },
        "id": "TxaqJzDt6aQp",
        "outputId": "469c15eb-c920-4228-b6d0-6e852f29d67d"
      },
      "outputs": [],
      "source": [
        "data = dtfs[DS.HOUSES].LotArea\n",
        "run_single_sample_real_dataset_experiment(data, sample_size, show_ecdfs=True)"
      ]
    },
    {
      "cell_type": "markdown",
      "metadata": {
        "id": "TtXFA0MFGFgU"
      },
      "source": [
        "#### Experiment 4: Multiple samples - LotArea - Lot size in square feet"
      ]
    },
    {
      "cell_type": "code",
      "execution_count": null,
      "metadata": {
        "colab": {
          "base_uri": "https://localhost:8080/",
          "height": 0
        },
        "id": "XuVS1kZeGEwr",
        "outputId": "88843ce5-5165-401f-a959-426140d63b8e"
      },
      "outputs": [],
      "source": [
        "data = dtfs[DS.HOUSES].LotArea\n",
        "run_multiple_samples_real_dataset_experiment(data, sample_size, num_of_samples)"
      ]
    },
    {
      "cell_type": "markdown",
      "metadata": {
        "id": "DuzccG2uKXWV"
      },
      "source": [
        "#### Experiment 5: Single sample - SalePrice vs LotArea comparison\n",
        "\n",
        "This experiment shows the distribution similarity between 2 different features of the dataset with and without scaling."
      ]
    },
    {
      "cell_type": "code",
      "execution_count": null,
      "metadata": {
        "colab": {
          "base_uri": "https://localhost:8080/",
          "height": 0
        },
        "id": "3HaP6kUdKXWV",
        "outputId": "d92f0259-cb69-4b68-9110-e32bcbceb164"
      },
      "outputs": [],
      "source": [
        "data_1 = dtfs[DS.HOUSES].SalePrice\n",
        "data_2 = dtfs[DS.HOUSES].LotArea\n",
        "run_two_sample_real_dataset_experiment(data_1, data_2, scale_data=True, show_ecdfs=True)"
      ]
    },
    {
      "cell_type": "markdown",
      "metadata": {
        "id": "mL3loaKn6aQq"
      },
      "source": [
        "### Dataset 2 - [Cancer detection](https://www.kaggle.com/uciml/breast-cancer-wisconsin-data)"
      ]
    },
    {
      "cell_type": "code",
      "execution_count": null,
      "metadata": {
        "colab": {
          "base_uri": "https://localhost:8080/",
          "height": 0
        },
        "id": "dFzvlpKr6aQq",
        "outputId": "eb1124be-c379-4405-d491-e691ab3eecb9"
      },
      "outputs": [],
      "source": [
        "dtfs[DS.CANCER].describe()"
      ]
    },
    {
      "cell_type": "code",
      "execution_count": null,
      "metadata": {
        "id": "b2PskVCQVkId"
      },
      "outputs": [],
      "source": [
        "sample_size = 569\n",
        "num_of_samples = 10"
      ]
    },
    {
      "cell_type": "markdown",
      "metadata": {
        "id": "x1Q76elsVkId"
      },
      "source": [
        "#### Experiment 1: Single sample - Radius - Mean of distances from center to points on the perimeter\n"
      ]
    },
    {
      "cell_type": "code",
      "execution_count": null,
      "metadata": {
        "colab": {
          "base_uri": "https://localhost:8080/",
          "height": 0
        },
        "id": "b1gsoTG_VkIe",
        "outputId": "246a9ca9-849b-4b01-b619-b446fb62a46d"
      },
      "outputs": [],
      "source": [
        "data = dtfs[DS.CANCER].radius_mean\n",
        "run_single_sample_real_dataset_experiment(data, sample_size, show_ecdfs=True)"
      ]
    },
    {
      "cell_type": "markdown",
      "metadata": {
        "id": "rUkMcFeOVkIe"
      },
      "source": [
        "#### Experiment 2: Multiple samples - Radius - Mean of distances from center to points on the perimeter\n"
      ]
    },
    {
      "cell_type": "code",
      "execution_count": null,
      "metadata": {
        "colab": {
          "base_uri": "https://localhost:8080/",
          "height": 0
        },
        "id": "aePa9t-GVkIe",
        "outputId": "d1ba5e76-0bf2-44d2-d68b-d7360a84d002"
      },
      "outputs": [],
      "source": [
        "data = dtfs[DS.CANCER].radius_mean\n",
        "run_multiple_samples_real_dataset_experiment(data, sample_size, num_of_samples)"
      ]
    },
    {
      "cell_type": "markdown",
      "metadata": {
        "id": "ZXCB43q_VkIf"
      },
      "source": [
        "#### Experiment 3: Single sample - Concavity - Severity of concave portions of the contour"
      ]
    },
    {
      "cell_type": "code",
      "execution_count": null,
      "metadata": {
        "colab": {
          "base_uri": "https://localhost:8080/",
          "height": 0
        },
        "id": "SOFkFhm3VkIf",
        "outputId": "585412ee-c4fb-4b4b-9e5c-10ceb0fb9ccf"
      },
      "outputs": [],
      "source": [
        "data = dtfs[DS.CANCER].concavity_mean\n",
        "run_single_sample_real_dataset_experiment(data, sample_size, show_ecdfs=True)"
      ]
    },
    {
      "cell_type": "markdown",
      "metadata": {
        "id": "Ky9tUmSoVkIf"
      },
      "source": [
        "#### Experiment 4: Multiple samples - Concavity - Severity of concave portions of the contour"
      ]
    },
    {
      "cell_type": "code",
      "execution_count": null,
      "metadata": {
        "colab": {
          "base_uri": "https://localhost:8080/",
          "height": 0
        },
        "id": "BhJEXVJBVkIf",
        "outputId": "2f8ad724-e2be-4637-f2d8-ad3a948f2bdc"
      },
      "outputs": [],
      "source": [
        "data = dtfs[DS.CANCER].concavity_mean\n",
        "run_multiple_samples_real_dataset_experiment(data, sample_size, num_of_samples)"
      ]
    },
    {
      "cell_type": "markdown",
      "metadata": {
        "id": "kaWTDKzRVkIf"
      },
      "source": [
        "#### Experiment 5: Single sample - Radius vs Concavity comparison\n",
        "\n",
        "This experiment shows the distribution similarity between 2 different features of the dataset with and without scaling."
      ]
    },
    {
      "cell_type": "code",
      "execution_count": null,
      "metadata": {
        "colab": {
          "base_uri": "https://localhost:8080/",
          "height": 0
        },
        "id": "Mw9WPd2VVkIg",
        "outputId": "22c34fe8-eb8a-4b49-febd-e805c0e5e84f"
      },
      "outputs": [],
      "source": [
        "data_1 = dtfs[DS.CANCER].radius_mean\n",
        "data_2 = dtfs[DS.CANCER].concavity_mean\n",
        "run_two_sample_real_dataset_experiment(data_1, data_2, scale_data=True, show_ecdfs=True)"
      ]
    },
    {
      "cell_type": "markdown",
      "metadata": {
        "id": "kgbD2ILK6aQs"
      },
      "source": [
        "### Dataset 3 - [Stress detection in sleep](https://www.kaggle.com/laavanya/human-stress-detection-in-and-through-sleep)"
      ]
    },
    {
      "cell_type": "code",
      "execution_count": null,
      "metadata": {
        "colab": {
          "base_uri": "https://localhost:8080/",
          "height": 0
        },
        "id": "mXxqq7886aQs",
        "outputId": "d83f0b8f-563d-4a78-c8b7-4b0221a57423"
      },
      "outputs": [],
      "source": [
        "dtfs[DS.SLEEPING].describe()"
      ]
    },
    {
      "cell_type": "code",
      "execution_count": null,
      "metadata": {
        "id": "80bP6oz2XUpE"
      },
      "outputs": [],
      "source": [
        "sample_size = 630\n",
        "num_of_samples = 10"
      ]
    },
    {
      "cell_type": "markdown",
      "metadata": {
        "id": "QQAVeOSmXUpE"
      },
      "source": [
        "#### Experiment 1: Single sample - sr - Snoring range of the user\n"
      ]
    },
    {
      "cell_type": "code",
      "execution_count": null,
      "metadata": {
        "colab": {
          "base_uri": "https://localhost:8080/",
          "height": 0
        },
        "id": "U75YouQ6XUpF",
        "outputId": "d30ad1a9-2c25-4d60-ba27-8b69a92b7652"
      },
      "outputs": [],
      "source": [
        "data = dtfs[DS.SLEEPING].sr\n",
        "run_single_sample_real_dataset_experiment(data, sample_size, show_ecdfs=True)"
      ]
    },
    {
      "cell_type": "markdown",
      "metadata": {
        "id": "2jFjdDf-XUpF"
      },
      "source": [
        "#### Experiment 2: Multiple samples - sr - Snoring range of the user\n"
      ]
    },
    {
      "cell_type": "code",
      "execution_count": null,
      "metadata": {
        "colab": {
          "base_uri": "https://localhost:8080/",
          "height": 0
        },
        "id": "p5ClHQqVXUpF",
        "outputId": "c70e5ed1-9a6c-4cab-e21e-26d510f5a643"
      },
      "outputs": [],
      "source": [
        "data = dtfs[DS.SLEEPING].sr\n",
        "run_multiple_samples_real_dataset_experiment(data, sample_size, num_of_samples)"
      ]
    },
    {
      "cell_type": "markdown",
      "metadata": {
        "id": "r6_3wjtMXUpF"
      },
      "source": [
        "#### Experiment 3: Single sample - t - Body temperature"
      ]
    },
    {
      "cell_type": "code",
      "execution_count": null,
      "metadata": {
        "colab": {
          "base_uri": "https://localhost:8080/",
          "height": 0
        },
        "id": "FFPAHcMzXUpF",
        "outputId": "4c767d38-1cea-4c03-ac72-eca2449c4aa4"
      },
      "outputs": [],
      "source": [
        "data = dtfs[DS.SLEEPING].t\n",
        "run_single_sample_real_dataset_experiment(data, sample_size, show_ecdfs=True)"
      ]
    },
    {
      "cell_type": "markdown",
      "metadata": {
        "id": "uXjQAxLJXUpG"
      },
      "source": [
        "#### Experiment 4: Multiple samples - t - Body temperature"
      ]
    },
    {
      "cell_type": "code",
      "execution_count": null,
      "metadata": {
        "colab": {
          "base_uri": "https://localhost:8080/",
          "height": 0
        },
        "id": "gWVraITkXUpG",
        "outputId": "ef3b6d8a-2e60-4648-a23a-58576236af2f"
      },
      "outputs": [],
      "source": [
        "data = dtfs[DS.SLEEPING].t\n",
        "run_multiple_samples_real_dataset_experiment(data, sample_size, num_of_samples)"
      ]
    },
    {
      "cell_type": "markdown",
      "metadata": {
        "id": "VfPoLswbXUpG"
      },
      "source": [
        "#### Experiment 5: Single sample - sr vs t comparison\n",
        "\n",
        "This experiment shows the distribution similarity between 2 different features of the dataset with and without scaling."
      ]
    },
    {
      "cell_type": "code",
      "execution_count": null,
      "metadata": {
        "colab": {
          "base_uri": "https://localhost:8080/",
          "height": 0
        },
        "id": "I2ZOClrhXUpG",
        "outputId": "6698cb26-e2b7-4a6a-e2fd-429177cffc04"
      },
      "outputs": [],
      "source": [
        "data_1 = dtfs[DS.SLEEPING].sr\n",
        "data_2 = dtfs[DS.SLEEPING].t\n",
        "run_two_sample_real_dataset_experiment(data_1, data_2, scale_data=True, show_ecdfs=True)"
      ]
    },
    {
      "cell_type": "markdown",
      "metadata": {
        "id": "gNlPl-kf6aQt"
      },
      "source": [
        "### Dataset 4 - [Salaries in san fransisco ](https://www.kaggle.com/kaggle/sf-salaries)"
      ]
    },
    {
      "cell_type": "code",
      "execution_count": null,
      "metadata": {
        "colab": {
          "base_uri": "https://localhost:8080/",
          "height": 0
        },
        "id": "rJywYzx4YQMm",
        "outputId": "5f378660-26f8-4f30-9908-5d1cc99b505a"
      },
      "outputs": [],
      "source": [
        "dtfs[DS.SALARIES].describe()"
      ]
    },
    {
      "cell_type": "code",
      "execution_count": null,
      "metadata": {
        "id": "OprE9nejZrcN"
      },
      "outputs": [],
      "source": [
        "sample_size = 10000\n",
        "num_of_samples = 10"
      ]
    },
    {
      "cell_type": "markdown",
      "metadata": {
        "id": "UOEpKYCuYQMm"
      },
      "source": [
        "#### Experiment 1: Single sample - BasePay - The base pay of the salary\n"
      ]
    },
    {
      "cell_type": "code",
      "execution_count": null,
      "metadata": {
        "colab": {
          "base_uri": "https://localhost:8080/",
          "height": 0
        },
        "id": "N70VgS3jYQMm",
        "outputId": "dad4c6cc-fa3d-4a18-cdad-24ea2d84b66d"
      },
      "outputs": [],
      "source": [
        "data = dtfs[DS.SALARIES].BasePay.sample(sample_size)\n",
        "run_single_sample_real_dataset_experiment(data, sample_size, show_ecdfs=True)"
      ]
    },
    {
      "cell_type": "markdown",
      "metadata": {
        "id": "QBhda0haYQMn"
      },
      "source": [
        "#### Experiment 2: Multiple samples - BasePay - The base pay of the salary\n"
      ]
    },
    {
      "cell_type": "code",
      "execution_count": null,
      "metadata": {
        "colab": {
          "base_uri": "https://localhost:8080/",
          "height": 0
        },
        "id": "l-VrqyxYYQMn",
        "outputId": "8bd4035c-0642-4c18-b223-3afc085fcac1"
      },
      "outputs": [],
      "source": [
        "data = dtfs[DS.SALARIES].BasePay.sample(sample_size)\n",
        "run_multiple_samples_real_dataset_experiment(data, sample_size, num_of_samples)"
      ]
    },
    {
      "cell_type": "markdown",
      "metadata": {
        "id": "fHBUGfdkYQMn"
      },
      "source": [
        "#### Experiment 3: Single sample - OvertimePay - The pay for overtime hours"
      ]
    },
    {
      "cell_type": "code",
      "execution_count": null,
      "metadata": {
        "colab": {
          "base_uri": "https://localhost:8080/",
          "height": 0
        },
        "id": "aiRkvkUxYQMn",
        "outputId": "f997e114-23d2-4a4e-fa39-efbe9afc9c02"
      },
      "outputs": [],
      "source": [
        "data = dtfs[DS.SALARIES].OvertimePay.sample(sample_size)\n",
        "run_single_sample_real_dataset_experiment(data, sample_size, show_ecdfs=True)"
      ]
    },
    {
      "cell_type": "markdown",
      "metadata": {
        "id": "x_Wf-yYxYQMo"
      },
      "source": [
        "#### Experiment 4: Multiple samples - OvertimePay - The pay for overtime hours"
      ]
    },
    {
      "cell_type": "code",
      "execution_count": null,
      "metadata": {
        "colab": {
          "base_uri": "https://localhost:8080/",
          "height": 0
        },
        "id": "rUlXbKbUYQMo",
        "outputId": "67fbd96e-d4cc-4bba-b501-4967cb306538"
      },
      "outputs": [],
      "source": [
        "data = dtfs[DS.SALARIES].OvertimePay.sample(sample_size)\n",
        "run_multiple_samples_real_dataset_experiment(data, sample_size, num_of_samples)"
      ]
    },
    {
      "cell_type": "markdown",
      "metadata": {
        "id": "n9WtWO2qYQMo"
      },
      "source": [
        "#### Experiment 5: Single sample - BasePay vs OvertimePay comparison\n",
        "\n",
        "This experiment shows the distribution similarity between 2 different features of the dataset with and without scaling."
      ]
    },
    {
      "cell_type": "code",
      "execution_count": null,
      "metadata": {
        "colab": {
          "base_uri": "https://localhost:8080/",
          "height": 0
        },
        "id": "irtoHBvYYQMo",
        "outputId": "b97f6021-b92e-41af-dbf6-652d6e075fd1"
      },
      "outputs": [],
      "source": [
        "data_1 = dtfs[DS.SALARIES].BasePay.sample(sample_size)\n",
        "data_2 = dtfs[DS.SALARIES].OvertimePay.sample(sample_size)\n",
        "run_two_sample_real_dataset_experiment(data_1, data_2, scale_data=True, show_ecdfs=True)"
      ]
    }
  ],
  "metadata": {
    "colab": {
      "collapsed_sections": [
        "lF5BAcAoP6bi",
        "QAIaU2gupFIs",
        "B0l50f9Cuh3-",
        "pxxL8UqdA5SE",
        "u5IxIcyUB-Oc",
        "3--ew0hQK-6V",
        "CFzu-G62jwvi",
        "u2Qmo6wYuFs8",
        "qNE2VK7IuTRc",
        "DRc1agKzwFOh",
        "WLopz26nwIv1",
        "KGrCEi-yxTk1",
        "x0DsN3XvKC84",
        "jl16AfhlFcAt",
        "MJkE7IW0KC9B",
        "nRwqoyWnKC9C",
        "zL53mUtBW6b6",
        "lqHh1SSDsV1_",
        "7z5NWTTiBxoU",
        "C4oOtHGhE6RR",
        "DLChzzhSIuA1",
        "HaA4gmBYEqh-",
        "9mbCrbCf6aQo",
        "RFjuTB0BD5gD",
        "yVNig9Fc6aQo",
        "nMw8uyAt6aQp",
        "TtXFA0MFGFgU",
        "DuzccG2uKXWV",
        "mL3loaKn6aQq",
        "x1Q76elsVkId",
        "rUkMcFeOVkIe",
        "ZXCB43q_VkIf",
        "Ky9tUmSoVkIf",
        "kaWTDKzRVkIf",
        "kgbD2ILK6aQs",
        "QQAVeOSmXUpE",
        "2jFjdDf-XUpF",
        "r6_3wjtMXUpF",
        "uXjQAxLJXUpG",
        "VfPoLswbXUpG",
        "gNlPl-kf6aQt",
        "UOEpKYCuYQMm",
        "QBhda0haYQMn",
        "fHBUGfdkYQMn",
        "x_Wf-yYxYQMo",
        "n9WtWO2qYQMo"
      ],
      "name": "Tabular Data Science Final Project",
      "provenance": []
    },
    "kernelspec": {
      "display_name": "Python 3",
      "name": "python3"
    },
    "language_info": {
      "codemirror_mode": {
        "name": "ipython",
        "version": 3
      },
      "file_extension": ".py",
      "mimetype": "text/x-python",
      "name": "python",
      "nbconvert_exporter": "python",
      "pygments_lexer": "ipython3",
      "version": "3.8.0"
    }
  },
  "nbformat": 4,
  "nbformat_minor": 0
}
